{
 "cells": [
  {
   "cell_type": "markdown",
   "metadata": {},
   "source": [
    "# Citibike Data : First Steps and Analysis\n"
   ]
  },
  {
   "cell_type": "code",
   "execution_count": 59,
   "metadata": {},
   "outputs": [],
   "source": [
    "import pandas as pd\n",
    "import numpy as np\n",
    "import googlemaps\n",
    "import config\n",
    "\n",
    "import matplotlib\n",
    "import matplotlib.pyplot as plt\n",
    "\n",
    "matplotlib.style.use('ggplot') \n",
    "\n",
    "gmaps = googlemaps.Client(key=config.gmaps_api_key)"
   ]
  },
  {
   "cell_type": "code",
   "execution_count": 79,
   "metadata": {},
   "outputs": [
    {
     "data": {
      "text/html": [
       "<div>\n",
       "<style scoped>\n",
       "    .dataframe tbody tr th:only-of-type {\n",
       "        vertical-align: middle;\n",
       "    }\n",
       "\n",
       "    .dataframe tbody tr th {\n",
       "        vertical-align: top;\n",
       "    }\n",
       "\n",
       "    .dataframe thead th {\n",
       "        text-align: right;\n",
       "    }\n",
       "</style>\n",
       "<table border=\"1\" class=\"dataframe\">\n",
       "  <thead>\n",
       "    <tr style=\"text-align: right;\">\n",
       "      <th></th>\n",
       "      <th>start_time</th>\n",
       "      <th>start_loc</th>\n",
       "      <th>end_time</th>\n",
       "      <th>end_loc</th>\n",
       "      <th>duration</th>\n",
       "    </tr>\n",
       "  </thead>\n",
       "  <tbody>\n",
       "    <tr>\n",
       "      <th>0</th>\n",
       "      <td>2018-04-28 14:24:58</td>\n",
       "      <td>Bond St &amp; Fulton St</td>\n",
       "      <td>2018-04-28 15:12:36</td>\n",
       "      <td>11 St &amp; 35 Ave</td>\n",
       "      <td>00:47:38</td>\n",
       "    </tr>\n",
       "    <tr>\n",
       "      <th>1</th>\n",
       "      <td>2018-04-24 08:09:43</td>\n",
       "      <td>1 Ave &amp; E 68 St</td>\n",
       "      <td>2018-04-24 08:29:39</td>\n",
       "      <td>E 19 St &amp; 3 Ave</td>\n",
       "      <td>00:19:56</td>\n",
       "    </tr>\n",
       "    <tr>\n",
       "      <th>2</th>\n",
       "      <td>2018-04-23 08:20:09</td>\n",
       "      <td>Bond St &amp; Fulton St</td>\n",
       "      <td>2018-04-23 08:46:25</td>\n",
       "      <td>E 19 St &amp; 3 Ave</td>\n",
       "      <td>00:26:16</td>\n",
       "    </tr>\n",
       "    <tr>\n",
       "      <th>3</th>\n",
       "      <td>2018-04-18 17:55:20</td>\n",
       "      <td>E 19 St &amp; 3 Ave</td>\n",
       "      <td>2018-04-18 18:25:50</td>\n",
       "      <td>Bond St &amp; Fulton St</td>\n",
       "      <td>00:30:30</td>\n",
       "    </tr>\n",
       "    <tr>\n",
       "      <th>4</th>\n",
       "      <td>2018-04-14 18:35:31</td>\n",
       "      <td>Central Park West &amp; W 85 St</td>\n",
       "      <td>2018-04-14 18:47:31</td>\n",
       "      <td>E 71 St &amp; 1 Ave</td>\n",
       "      <td>00:12:00</td>\n",
       "    </tr>\n",
       "  </tbody>\n",
       "</table>\n",
       "</div>"
      ],
      "text/plain": [
       "           start_time                    start_loc            end_time  \\\n",
       "0 2018-04-28 14:24:58          Bond St & Fulton St 2018-04-28 15:12:36   \n",
       "1 2018-04-24 08:09:43              1 Ave & E 68 St 2018-04-24 08:29:39   \n",
       "2 2018-04-23 08:20:09          Bond St & Fulton St 2018-04-23 08:46:25   \n",
       "3 2018-04-18 17:55:20              E 19 St & 3 Ave 2018-04-18 18:25:50   \n",
       "4 2018-04-14 18:35:31  Central Park West & W 85 St 2018-04-14 18:47:31   \n",
       "\n",
       "               end_loc duration  \n",
       "0       11 St & 35 Ave 00:47:38  \n",
       "1      E 19 St & 3 Ave 00:19:56  \n",
       "2      E 19 St & 3 Ave 00:26:16  \n",
       "3  Bond St & Fulton St 00:30:30  \n",
       "4      E 71 St & 1 Ave 00:12:00  "
      ]
     },
     "execution_count": 79,
     "metadata": {},
     "output_type": "execute_result"
    }
   ],
   "source": [
    "# Read text file into pandas. By observation, use new line as separator declare no header so first line is read as data.\n",
    "trips_df = pd.read_csv('trips.txt', sep=\"\\n\", header=None)\n",
    "\n",
    "# Convert df from number_of_trips*5 by 1 to number_of_trips by 5\n",
    "trips_df = (pd.DataFrame(np.reshape(trips_df.values,(round(len(trips_df)/5), 5)), \n",
    "                         columns=['start_time','start_loc','end_time','end_loc','duration']))\n",
    "\n",
    "# Convert strings of times to datetimes\n",
    "trips_df[['start_time','end_time']] = trips_df[['start_time','end_time']].apply(pd.to_datetime)\n",
    "\n",
    "# Replace imported duration time with datetime calculated from start and end times.\n",
    "trips_df['duration'] = trips_df['end_time'] - trips_df['start_time']\n",
    "\n",
    "trips_df.head()"
   ]
  },
  {
   "cell_type": "code",
   "execution_count": 80,
   "metadata": {},
   "outputs": [],
   "source": [
    "# Count number of trips that start and end at same station. For these trips, assume no meaningful travel. Sum durations for later reporting.\n",
    "non_trips = sum(trips_df['start_loc'] == trips_df['end_loc'])\n",
    "non_trips_time = trips_df[trips_df['start_loc'] == trips_df['end_loc']]['duration'].sum()\n",
    "\n",
    "# Drop these trips, reset index.\n",
    "trips_df.drop(trips_df[trips_df['start_loc'] == trips_df['end_loc']].index, inplace = True)\n",
    "trips_df.reset_index(inplace = True, drop = True)\n",
    "\n",
    "# Append city and state to locations to avoid ambiguity.\n",
    "\n",
    "trips_df[['start_loc','end_loc']] = trips_df[['start_loc','end_loc']].astype(str) + \", New York, NY\""
   ]
  },
  {
   "cell_type": "code",
   "execution_count": 81,
   "metadata": {},
   "outputs": [
    {
     "data": {
      "text/html": [
       "<div>\n",
       "<style scoped>\n",
       "    .dataframe tbody tr th:only-of-type {\n",
       "        vertical-align: middle;\n",
       "    }\n",
       "\n",
       "    .dataframe tbody tr th {\n",
       "        vertical-align: top;\n",
       "    }\n",
       "\n",
       "    .dataframe thead th {\n",
       "        text-align: right;\n",
       "    }\n",
       "</style>\n",
       "<table border=\"1\" class=\"dataframe\">\n",
       "  <thead>\n",
       "    <tr style=\"text-align: right;\">\n",
       "      <th></th>\n",
       "      <th>start_time</th>\n",
       "      <th>start_loc</th>\n",
       "      <th>end_time</th>\n",
       "      <th>end_loc</th>\n",
       "      <th>duration</th>\n",
       "    </tr>\n",
       "  </thead>\n",
       "  <tbody>\n",
       "    <tr>\n",
       "      <th>0</th>\n",
       "      <td>2018-04-28 14:24:58</td>\n",
       "      <td>Bond St &amp; Fulton St, New York, NY</td>\n",
       "      <td>2018-04-28 15:12:36</td>\n",
       "      <td>11 St &amp; 35 Ave, New York, NY</td>\n",
       "      <td>00:47:38</td>\n",
       "    </tr>\n",
       "    <tr>\n",
       "      <th>1</th>\n",
       "      <td>2018-04-24 08:09:43</td>\n",
       "      <td>1 Ave &amp; E 68 St, New York, NY</td>\n",
       "      <td>2018-04-24 08:29:39</td>\n",
       "      <td>E 19 St &amp; 3 Ave, New York, NY</td>\n",
       "      <td>00:19:56</td>\n",
       "    </tr>\n",
       "    <tr>\n",
       "      <th>2</th>\n",
       "      <td>2018-04-23 08:20:09</td>\n",
       "      <td>Bond St &amp; Fulton St, New York, NY</td>\n",
       "      <td>2018-04-23 08:46:25</td>\n",
       "      <td>E 19 St &amp; 3 Ave, New York, NY</td>\n",
       "      <td>00:26:16</td>\n",
       "    </tr>\n",
       "    <tr>\n",
       "      <th>3</th>\n",
       "      <td>2018-04-18 17:55:20</td>\n",
       "      <td>E 19 St &amp; 3 Ave, New York, NY</td>\n",
       "      <td>2018-04-18 18:25:50</td>\n",
       "      <td>Bond St &amp; Fulton St, New York, NY</td>\n",
       "      <td>00:30:30</td>\n",
       "    </tr>\n",
       "    <tr>\n",
       "      <th>4</th>\n",
       "      <td>2018-04-14 18:35:31</td>\n",
       "      <td>Central Park West &amp; W 85 St, New York, NY</td>\n",
       "      <td>2018-04-14 18:47:31</td>\n",
       "      <td>E 71 St &amp; 1 Ave, New York, NY</td>\n",
       "      <td>00:12:00</td>\n",
       "    </tr>\n",
       "  </tbody>\n",
       "</table>\n",
       "</div>"
      ],
      "text/plain": [
       "           start_time                                  start_loc  \\\n",
       "0 2018-04-28 14:24:58          Bond St & Fulton St, New York, NY   \n",
       "1 2018-04-24 08:09:43              1 Ave & E 68 St, New York, NY   \n",
       "2 2018-04-23 08:20:09          Bond St & Fulton St, New York, NY   \n",
       "3 2018-04-18 17:55:20              E 19 St & 3 Ave, New York, NY   \n",
       "4 2018-04-14 18:35:31  Central Park West & W 85 St, New York, NY   \n",
       "\n",
       "             end_time                            end_loc duration  \n",
       "0 2018-04-28 15:12:36       11 St & 35 Ave, New York, NY 00:47:38  \n",
       "1 2018-04-24 08:29:39      E 19 St & 3 Ave, New York, NY 00:19:56  \n",
       "2 2018-04-23 08:46:25      E 19 St & 3 Ave, New York, NY 00:26:16  \n",
       "3 2018-04-18 18:25:50  Bond St & Fulton St, New York, NY 00:30:30  \n",
       "4 2018-04-14 18:47:31      E 71 St & 1 Ave, New York, NY 00:12:00  "
      ]
     },
     "execution_count": 81,
     "metadata": {},
     "output_type": "execute_result"
    }
   ],
   "source": [
    "trips_df.head()"
   ]
  },
  {
   "cell_type": "code",
   "execution_count": 5,
   "metadata": {},
   "outputs": [
    {
     "data": {
      "text/html": [
       "<div>\n",
       "<style scoped>\n",
       "    .dataframe tbody tr th:only-of-type {\n",
       "        vertical-align: middle;\n",
       "    }\n",
       "\n",
       "    .dataframe tbody tr th {\n",
       "        vertical-align: top;\n",
       "    }\n",
       "\n",
       "    .dataframe thead th {\n",
       "        text-align: right;\n",
       "    }\n",
       "</style>\n",
       "<table border=\"1\" class=\"dataframe\">\n",
       "  <thead>\n",
       "    <tr style=\"text-align: right;\">\n",
       "      <th></th>\n",
       "      <th>start_loc</th>\n",
       "      <th>end_loc</th>\n",
       "      <th>count</th>\n",
       "    </tr>\n",
       "  </thead>\n",
       "  <tbody>\n",
       "    <tr>\n",
       "      <th>0</th>\n",
       "      <td>1 Ave &amp; E 16 St, New York, NY</td>\n",
       "      <td>Duffield St &amp; Willoughby St, New York, NY</td>\n",
       "      <td>1</td>\n",
       "    </tr>\n",
       "    <tr>\n",
       "      <th>1</th>\n",
       "      <td>1 Ave &amp; E 68 St, New York, NY</td>\n",
       "      <td>E 17 St &amp; Broadway, New York, NY</td>\n",
       "      <td>1</td>\n",
       "    </tr>\n",
       "    <tr>\n",
       "      <th>2</th>\n",
       "      <td>1 Ave &amp; E 68 St, New York, NY</td>\n",
       "      <td>E 19 St &amp; 3 Ave, New York, NY</td>\n",
       "      <td>14</td>\n",
       "    </tr>\n",
       "    <tr>\n",
       "      <th>3</th>\n",
       "      <td>1 Ave &amp; E 68 St, New York, NY</td>\n",
       "      <td>E 20 St &amp; Park Ave, New York, NY</td>\n",
       "      <td>2</td>\n",
       "    </tr>\n",
       "    <tr>\n",
       "      <th>4</th>\n",
       "      <td>1 Ave &amp; E 68 St, New York, NY</td>\n",
       "      <td>E 44 St &amp; 2 Ave, New York, NY</td>\n",
       "      <td>1</td>\n",
       "    </tr>\n",
       "  </tbody>\n",
       "</table>\n",
       "</div>"
      ],
      "text/plain": [
       "                       start_loc                                    end_loc  \\\n",
       "0  1 Ave & E 16 St, New York, NY  Duffield St & Willoughby St, New York, NY   \n",
       "1  1 Ave & E 68 St, New York, NY           E 17 St & Broadway, New York, NY   \n",
       "2  1 Ave & E 68 St, New York, NY              E 19 St & 3 Ave, New York, NY   \n",
       "3  1 Ave & E 68 St, New York, NY           E 20 St & Park Ave, New York, NY   \n",
       "4  1 Ave & E 68 St, New York, NY              E 44 St & 2 Ave, New York, NY   \n",
       "\n",
       "   count  \n",
       "0      1  \n",
       "1      1  \n",
       "2     14  \n",
       "3      2  \n",
       "4      1  "
      ]
     },
     "execution_count": 5,
     "metadata": {},
     "output_type": "execute_result"
    }
   ],
   "source": [
    "# Group and count rows where start_loc and end_loc have the same values. Reset index and rename column to be count.\n",
    "# Create a unique df so as to minimize the number of hits on the Google Maps API.\n",
    "\n",
    "unique = trips_df.groupby(['start_loc','end_loc']).size().reset_index().rename(columns= {0:'count'})\n",
    "unique.head()"
   ]
  },
  {
   "cell_type": "code",
   "execution_count": 6,
   "metadata": {},
   "outputs": [],
   "source": [
    "# Define function that will use Google Maps API to retrieve assumed routes for all unique trips.\n",
    "\n",
    "def get_bike_directions(row):\n",
    "    origin = row['start_loc']\n",
    "    destination = row['end_loc']\n",
    "    mode = \"bicycling\"\n",
    "    return gmaps.directions(origin, destination, mode)\n",
    "\n",
    "directions = unique.apply(get_bike_directions, axis = 1)"
   ]
  },
  {
   "cell_type": "code",
   "execution_count": 9,
   "metadata": {},
   "outputs": [],
   "source": [
    "unique['directions'] = directions"
   ]
  },
  {
   "cell_type": "code",
   "execution_count": 10,
   "metadata": {},
   "outputs": [],
   "source": [
    "# Parse returned JSON to extract overall distance and overall duration of route.\n",
    "\n",
    "unique['dist'] = unique['directions'].apply(lambda x : x[0][\"legs\"][0]['distance']['text'])\n",
    "unique['google_time'] = unique['directions'].apply(lambda x : x[0][\"legs\"][0]['duration']['text'])"
   ]
  },
  {
   "cell_type": "code",
   "execution_count": 63,
   "metadata": {},
   "outputs": [
    {
     "data": {
      "text/html": [
       "<div>\n",
       "<style scoped>\n",
       "    .dataframe tbody tr th:only-of-type {\n",
       "        vertical-align: middle;\n",
       "    }\n",
       "\n",
       "    .dataframe tbody tr th {\n",
       "        vertical-align: top;\n",
       "    }\n",
       "\n",
       "    .dataframe thead th {\n",
       "        text-align: right;\n",
       "    }\n",
       "</style>\n",
       "<table border=\"1\" class=\"dataframe\">\n",
       "  <thead>\n",
       "    <tr style=\"text-align: right;\">\n",
       "      <th></th>\n",
       "      <th>start_loc</th>\n",
       "      <th>end_loc</th>\n",
       "      <th>count</th>\n",
       "      <th>directions</th>\n",
       "      <th>dist</th>\n",
       "      <th>google_time</th>\n",
       "    </tr>\n",
       "  </thead>\n",
       "  <tbody>\n",
       "    <tr>\n",
       "      <th>0</th>\n",
       "      <td>1 Ave &amp; E 16 St, New York, NY</td>\n",
       "      <td>Duffield St &amp; Willoughby St, New York, NY</td>\n",
       "      <td>1</td>\n",
       "      <td>[{'bounds': {'northeast': {'lat': 40.7333362, ...</td>\n",
       "      <td>3.6 mi</td>\n",
       "      <td>22 mins</td>\n",
       "    </tr>\n",
       "    <tr>\n",
       "      <th>1</th>\n",
       "      <td>1 Ave &amp; E 68 St, New York, NY</td>\n",
       "      <td>E 17 St &amp; Broadway, New York, NY</td>\n",
       "      <td>1</td>\n",
       "      <td>[{'bounds': {'northeast': {'lat': 40.7652381, ...</td>\n",
       "      <td>3.5 mi</td>\n",
       "      <td>20 mins</td>\n",
       "    </tr>\n",
       "    <tr>\n",
       "      <th>2</th>\n",
       "      <td>1 Ave &amp; E 68 St, New York, NY</td>\n",
       "      <td>E 19 St &amp; 3 Ave, New York, NY</td>\n",
       "      <td>14</td>\n",
       "      <td>[{'bounds': {'northeast': {'lat': 40.7652381, ...</td>\n",
       "      <td>3.1 mi</td>\n",
       "      <td>17 mins</td>\n",
       "    </tr>\n",
       "    <tr>\n",
       "      <th>3</th>\n",
       "      <td>1 Ave &amp; E 68 St, New York, NY</td>\n",
       "      <td>E 20 St &amp; Park Ave, New York, NY</td>\n",
       "      <td>2</td>\n",
       "      <td>[{'bounds': {'northeast': {'lat': 40.7652381, ...</td>\n",
       "      <td>3.5 mi</td>\n",
       "      <td>20 mins</td>\n",
       "    </tr>\n",
       "    <tr>\n",
       "      <th>4</th>\n",
       "      <td>1 Ave &amp; E 68 St, New York, NY</td>\n",
       "      <td>E 44 St &amp; 2 Ave, New York, NY</td>\n",
       "      <td>1</td>\n",
       "      <td>[{'bounds': {'northeast': {'lat': 40.7652381, ...</td>\n",
       "      <td>1.8 mi</td>\n",
       "      <td>10 mins</td>\n",
       "    </tr>\n",
       "  </tbody>\n",
       "</table>\n",
       "</div>"
      ],
      "text/plain": [
       "                       start_loc                                    end_loc  \\\n",
       "0  1 Ave & E 16 St, New York, NY  Duffield St & Willoughby St, New York, NY   \n",
       "1  1 Ave & E 68 St, New York, NY           E 17 St & Broadway, New York, NY   \n",
       "2  1 Ave & E 68 St, New York, NY              E 19 St & 3 Ave, New York, NY   \n",
       "3  1 Ave & E 68 St, New York, NY           E 20 St & Park Ave, New York, NY   \n",
       "4  1 Ave & E 68 St, New York, NY              E 44 St & 2 Ave, New York, NY   \n",
       "\n",
       "   count                                         directions    dist  \\\n",
       "0      1  [{'bounds': {'northeast': {'lat': 40.7333362, ...  3.6 mi   \n",
       "1      1  [{'bounds': {'northeast': {'lat': 40.7652381, ...  3.5 mi   \n",
       "2     14  [{'bounds': {'northeast': {'lat': 40.7652381, ...  3.1 mi   \n",
       "3      2  [{'bounds': {'northeast': {'lat': 40.7652381, ...  3.5 mi   \n",
       "4      1  [{'bounds': {'northeast': {'lat': 40.7652381, ...  1.8 mi   \n",
       "\n",
       "  google_time  \n",
       "0     22 mins  \n",
       "1     20 mins  \n",
       "2     17 mins  \n",
       "3     20 mins  \n",
       "4     10 mins  "
      ]
     },
     "execution_count": 63,
     "metadata": {},
     "output_type": "execute_result"
    }
   ],
   "source": [
    "unique.head()"
   ]
  },
  {
   "cell_type": "code",
   "execution_count": 82,
   "metadata": {},
   "outputs": [],
   "source": [
    "trips_df = pd.merge(trips_df, unique, how='left', left_on=['start_loc','end_loc'], right_on=['start_loc','end_loc']).drop(['count'], axis =1)"
   ]
  },
  {
   "cell_type": "code",
   "execution_count": 83,
   "metadata": {},
   "outputs": [],
   "source": [
    "trips_df['dist'] = trips_df['dist'].apply(lambda x : x[:-3])"
   ]
  },
  {
   "cell_type": "code",
   "execution_count": 84,
   "metadata": {},
   "outputs": [],
   "source": [
    "trips_df = trips_df.rename(columns={'dist':'dist_miles'})"
   ]
  },
  {
   "cell_type": "code",
   "execution_count": 85,
   "metadata": {},
   "outputs": [],
   "source": [
    "trips_df['speed_mph'] = trips_df['dist_miles'].astype(float) / (trips_df['duration']/np.timedelta64(1, 'h'))"
   ]
  },
  {
   "cell_type": "code",
   "execution_count": 86,
   "metadata": {},
   "outputs": [
    {
     "data": {
      "text/html": [
       "<div>\n",
       "<style scoped>\n",
       "    .dataframe tbody tr th:only-of-type {\n",
       "        vertical-align: middle;\n",
       "    }\n",
       "\n",
       "    .dataframe tbody tr th {\n",
       "        vertical-align: top;\n",
       "    }\n",
       "\n",
       "    .dataframe thead th {\n",
       "        text-align: right;\n",
       "    }\n",
       "</style>\n",
       "<table border=\"1\" class=\"dataframe\">\n",
       "  <thead>\n",
       "    <tr style=\"text-align: right;\">\n",
       "      <th></th>\n",
       "      <th>start_time</th>\n",
       "      <th>start_loc</th>\n",
       "      <th>end_time</th>\n",
       "      <th>end_loc</th>\n",
       "      <th>duration</th>\n",
       "      <th>directions</th>\n",
       "      <th>dist_miles</th>\n",
       "      <th>google_time</th>\n",
       "      <th>speed_mph</th>\n",
       "    </tr>\n",
       "  </thead>\n",
       "  <tbody>\n",
       "    <tr>\n",
       "      <th>0</th>\n",
       "      <td>2018-04-28 14:24:58</td>\n",
       "      <td>Bond St &amp; Fulton St, New York, NY</td>\n",
       "      <td>2018-04-28 15:12:36</td>\n",
       "      <td>11 St &amp; 35 Ave, New York, NY</td>\n",
       "      <td>00:47:38</td>\n",
       "      <td>[{'bounds': {'northeast': {'lat': 40.7628454, ...</td>\n",
       "      <td>7.5</td>\n",
       "      <td>43 mins</td>\n",
       "      <td>9.447166</td>\n",
       "    </tr>\n",
       "    <tr>\n",
       "      <th>1</th>\n",
       "      <td>2018-04-24 08:09:43</td>\n",
       "      <td>1 Ave &amp; E 68 St, New York, NY</td>\n",
       "      <td>2018-04-24 08:29:39</td>\n",
       "      <td>E 19 St &amp; 3 Ave, New York, NY</td>\n",
       "      <td>00:19:56</td>\n",
       "      <td>[{'bounds': {'northeast': {'lat': 40.7652381, ...</td>\n",
       "      <td>3.1</td>\n",
       "      <td>17 mins</td>\n",
       "      <td>9.331104</td>\n",
       "    </tr>\n",
       "    <tr>\n",
       "      <th>2</th>\n",
       "      <td>2018-04-23 08:20:09</td>\n",
       "      <td>Bond St &amp; Fulton St, New York, NY</td>\n",
       "      <td>2018-04-23 08:46:25</td>\n",
       "      <td>E 19 St &amp; 3 Ave, New York, NY</td>\n",
       "      <td>00:26:16</td>\n",
       "      <td>[{'bounds': {'northeast': {'lat': 40.7363809, ...</td>\n",
       "      <td>4.2</td>\n",
       "      <td>25 mins</td>\n",
       "      <td>9.593909</td>\n",
       "    </tr>\n",
       "    <tr>\n",
       "      <th>3</th>\n",
       "      <td>2018-04-18 17:55:20</td>\n",
       "      <td>E 19 St &amp; 3 Ave, New York, NY</td>\n",
       "      <td>2018-04-18 18:25:50</td>\n",
       "      <td>Bond St &amp; Fulton St, New York, NY</td>\n",
       "      <td>00:30:30</td>\n",
       "      <td>[{'bounds': {'northeast': {'lat': 40.736971, '...</td>\n",
       "      <td>4.0</td>\n",
       "      <td>23 mins</td>\n",
       "      <td>7.868852</td>\n",
       "    </tr>\n",
       "    <tr>\n",
       "      <th>4</th>\n",
       "      <td>2018-04-14 18:35:31</td>\n",
       "      <td>Central Park West &amp; W 85 St, New York, NY</td>\n",
       "      <td>2018-04-14 18:47:31</td>\n",
       "      <td>E 71 St &amp; 1 Ave, New York, NY</td>\n",
       "      <td>00:12:00</td>\n",
       "      <td>[{'bounds': {'northeast': {'lat': 40.784612, '...</td>\n",
       "      <td>3.1</td>\n",
       "      <td>20 mins</td>\n",
       "      <td>15.500000</td>\n",
       "    </tr>\n",
       "  </tbody>\n",
       "</table>\n",
       "</div>"
      ],
      "text/plain": [
       "           start_time                                  start_loc  \\\n",
       "0 2018-04-28 14:24:58          Bond St & Fulton St, New York, NY   \n",
       "1 2018-04-24 08:09:43              1 Ave & E 68 St, New York, NY   \n",
       "2 2018-04-23 08:20:09          Bond St & Fulton St, New York, NY   \n",
       "3 2018-04-18 17:55:20              E 19 St & 3 Ave, New York, NY   \n",
       "4 2018-04-14 18:35:31  Central Park West & W 85 St, New York, NY   \n",
       "\n",
       "             end_time                            end_loc duration  \\\n",
       "0 2018-04-28 15:12:36       11 St & 35 Ave, New York, NY 00:47:38   \n",
       "1 2018-04-24 08:29:39      E 19 St & 3 Ave, New York, NY 00:19:56   \n",
       "2 2018-04-23 08:46:25      E 19 St & 3 Ave, New York, NY 00:26:16   \n",
       "3 2018-04-18 18:25:50  Bond St & Fulton St, New York, NY 00:30:30   \n",
       "4 2018-04-14 18:47:31      E 71 St & 1 Ave, New York, NY 00:12:00   \n",
       "\n",
       "                                          directions dist_miles google_time  \\\n",
       "0  [{'bounds': {'northeast': {'lat': 40.7628454, ...        7.5     43 mins   \n",
       "1  [{'bounds': {'northeast': {'lat': 40.7652381, ...        3.1     17 mins   \n",
       "2  [{'bounds': {'northeast': {'lat': 40.7363809, ...        4.2     25 mins   \n",
       "3  [{'bounds': {'northeast': {'lat': 40.736971, '...        4.0     23 mins   \n",
       "4  [{'bounds': {'northeast': {'lat': 40.784612, '...        3.1     20 mins   \n",
       "\n",
       "   speed_mph  \n",
       "0   9.447166  \n",
       "1   9.331104  \n",
       "2   9.593909  \n",
       "3   7.868852  \n",
       "4  15.500000  "
      ]
     },
     "execution_count": 86,
     "metadata": {},
     "output_type": "execute_result"
    }
   ],
   "source": [
    "trips_df.head()"
   ]
  },
  {
   "cell_type": "code",
   "execution_count": 87,
   "metadata": {},
   "outputs": [
    {
     "data": {
      "image/png": "[encoded data removed]",
      "text/plain": [
       "<matplotlib.figure.Figure at 0x7f6318365860>"
      ]
     },
     "metadata": {},
     "output_type": "display_data"
    }
   ],
   "source": [
    "num_bins = 20\n",
    "fig, ax = plt.subplots()\n",
    "\n",
    "ax.hist(trips_df['speed_mph'], bins=num_bins)\n",
    "ax.set_xlabel('Speeds (mph)')\n",
    "ax.set_ylabel('Number of Rides')\n",
    "ax.set_title('Histogram of Ride Speeds')\n",
    "\n",
    "fig.tight_layout()\n",
    "plt.show()"
   ]
  },
  {
   "cell_type": "code",
   "execution_count": 88,
   "metadata": {},
   "outputs": [],
   "source": [
    "# Based on histogram above, assume that rides over 20 mph are erroneous -- i.e., I took a shortcut down a one-way compared\n",
    "# to what Google suggested, or, for the > 20 mph ride, the address/pathfinding is wrong because of Brooklyn vs NY, NY.\n",
    "trips_df = trips_df.drop(trips_df[trips_df.speed_mph > 12].index)"
   ]
  },
  {
   "cell_type": "code",
   "execution_count": 95,
   "metadata": {
    "scrolled": true
   },
   "outputs": [
    {
     "data": {
      "image/png": "[encoded data removed]",
      "text/plain": [
       "<matplotlib.figure.Figure at 0x7f631809dda0>"
      ]
     },
     "metadata": {},
     "output_type": "display_data"
    }
   ],
   "source": [
    "num_bins = 20\n",
    "fig, ax = plt.subplots()\n",
    "\n",
    "ax.hist(trips_df['speed_mph'], bins=num_bins)\n",
    "ax.set_xlabel('Speeds (mph)')\n",
    "ax.set_ylabel('Number of Rides')\n",
    "ax.set_title('Histogram of Ride Speeds')\n",
    "\n",
    "fig.tight_layout()\n",
    "plt.show()"
   ]
  },
  {
   "cell_type": "code",
   "execution_count": 98,
   "metadata": {},
   "outputs": [
    {
     "ename": "AttributeError",
     "evalue": "Unknown property bins",
     "output_type": "error",
     "traceback": [
      "\u001b[0;31m---------------------------------------------------------------------------\u001b[0m",
      "\u001b[0;31mAttributeError\u001b[0m                            Traceback (most recent call last)",
      "\u001b[0;32m<ipython-input-98-8fc4ed4459eb>\u001b[0m in \u001b[0;36m<module>\u001b[0;34m()\u001b[0m\n\u001b[1;32m      1\u001b[0m \u001b[0mfig\u001b[0m\u001b[0;34m,\u001b[0m \u001b[0max\u001b[0m \u001b[0;34m=\u001b[0m \u001b[0mplt\u001b[0m\u001b[0;34m.\u001b[0m\u001b[0msubplots\u001b[0m\u001b[0;34m(\u001b[0m\u001b[0;34m)\u001b[0m\u001b[0;34m\u001b[0m\u001b[0m\n\u001b[1;32m      2\u001b[0m \u001b[0;34m\u001b[0m\u001b[0m\n\u001b[0;32m----> 3\u001b[0;31m \u001b[0max\u001b[0m\u001b[0;34m.\u001b[0m\u001b[0mscatter\u001b[0m\u001b[0;34m(\u001b[0m\u001b[0mx\u001b[0m \u001b[0;34m=\u001b[0m \u001b[0mtrips_df\u001b[0m\u001b[0;34m[\u001b[0m\u001b[0;34m'dist_miles'\u001b[0m\u001b[0;34m]\u001b[0m\u001b[0;34m,\u001b[0m \u001b[0my\u001b[0m \u001b[0;34m=\u001b[0m \u001b[0mtrips_df\u001b[0m\u001b[0;34m[\u001b[0m\u001b[0;34m'speed_mph'\u001b[0m\u001b[0;34m]\u001b[0m\u001b[0;34m,\u001b[0m \u001b[0mmarker\u001b[0m \u001b[0;34m=\u001b[0m \u001b[0;34m'o'\u001b[0m\u001b[0;34m,\u001b[0m \u001b[0mbins\u001b[0m\u001b[0;34m=\u001b[0m\u001b[0;36m10\u001b[0m\u001b[0;34m)\u001b[0m\u001b[0;34m\u001b[0m\u001b[0m\n\u001b[0m\u001b[1;32m      4\u001b[0m \u001b[0max\u001b[0m\u001b[0;34m.\u001b[0m\u001b[0mset_xlabel\u001b[0m\u001b[0;34m(\u001b[0m\u001b[0;34m'Distance (miles)'\u001b[0m\u001b[0;34m)\u001b[0m\u001b[0;34m\u001b[0m\u001b[0m\n\u001b[1;32m      5\u001b[0m \u001b[0max\u001b[0m\u001b[0;34m.\u001b[0m\u001b[0mset_ylabel\u001b[0m\u001b[0;34m(\u001b[0m\u001b[0;34m'Speed (mph)'\u001b[0m\u001b[0;34m)\u001b[0m\u001b[0;34m\u001b[0m\u001b[0m\n",
      "\u001b[0;32m~/anaconda3/lib/python3.6/site-packages/matplotlib/__init__.py\u001b[0m in \u001b[0;36minner\u001b[0;34m(ax, *args, **kwargs)\u001b[0m\n\u001b[1;32m   1715\u001b[0m                     warnings.warn(msg % (label_namer, func.__name__),\n\u001b[1;32m   1716\u001b[0m                                   RuntimeWarning, stacklevel=2)\n\u001b[0;32m-> 1717\u001b[0;31m             \u001b[0;32mreturn\u001b[0m \u001b[0mfunc\u001b[0m\u001b[0;34m(\u001b[0m\u001b[0max\u001b[0m\u001b[0;34m,\u001b[0m \u001b[0;34m*\u001b[0m\u001b[0margs\u001b[0m\u001b[0;34m,\u001b[0m \u001b[0;34m**\u001b[0m\u001b[0mkwargs\u001b[0m\u001b[0;34m)\u001b[0m\u001b[0;34m\u001b[0m\u001b[0m\n\u001b[0m\u001b[1;32m   1718\u001b[0m         \u001b[0mpre_doc\u001b[0m \u001b[0;34m=\u001b[0m \u001b[0minner\u001b[0m\u001b[0;34m.\u001b[0m\u001b[0m__doc__\u001b[0m\u001b[0;34m\u001b[0m\u001b[0m\n\u001b[1;32m   1719\u001b[0m         \u001b[0;32mif\u001b[0m \u001b[0mpre_doc\u001b[0m \u001b[0;32mis\u001b[0m \u001b[0;32mNone\u001b[0m\u001b[0;34m:\u001b[0m\u001b[0;34m\u001b[0m\u001b[0m\n",
      "\u001b[0;32m~/anaconda3/lib/python3.6/site-packages/matplotlib/axes/_axes.py\u001b[0m in \u001b[0;36mscatter\u001b[0;34m(self, x, y, s, c, marker, cmap, norm, vmin, vmax, alpha, linewidths, verts, edgecolors, **kwargs)\u001b[0m\n\u001b[1;32m   4033\u001b[0m                 )\n\u001b[1;32m   4034\u001b[0m         \u001b[0mcollection\u001b[0m\u001b[0;34m.\u001b[0m\u001b[0mset_transform\u001b[0m\u001b[0;34m(\u001b[0m\u001b[0mmtransforms\u001b[0m\u001b[0;34m.\u001b[0m\u001b[0mIdentityTransform\u001b[0m\u001b[0;34m(\u001b[0m\u001b[0;34m)\u001b[0m\u001b[0;34m)\u001b[0m\u001b[0;34m\u001b[0m\u001b[0m\n\u001b[0;32m-> 4035\u001b[0;31m         \u001b[0mcollection\u001b[0m\u001b[0;34m.\u001b[0m\u001b[0mupdate\u001b[0m\u001b[0;34m(\u001b[0m\u001b[0mkwargs\u001b[0m\u001b[0;34m)\u001b[0m\u001b[0;34m\u001b[0m\u001b[0m\n\u001b[0m\u001b[1;32m   4036\u001b[0m \u001b[0;34m\u001b[0m\u001b[0m\n\u001b[1;32m   4037\u001b[0m         \u001b[0;32mif\u001b[0m \u001b[0mcolors\u001b[0m \u001b[0;32mis\u001b[0m \u001b[0;32mNone\u001b[0m\u001b[0;34m:\u001b[0m\u001b[0;34m\u001b[0m\u001b[0m\n",
      "\u001b[0;32m~/anaconda3/lib/python3.6/site-packages/matplotlib/artist.py\u001b[0m in \u001b[0;36mupdate\u001b[0;34m(self, props)\u001b[0m\n\u001b[1;32m    900\u001b[0m         \u001b[0;32mtry\u001b[0m\u001b[0;34m:\u001b[0m\u001b[0;34m\u001b[0m\u001b[0m\n\u001b[1;32m    901\u001b[0m             ret = [_update_property(self, k, v)\n\u001b[0;32m--> 902\u001b[0;31m                    for k, v in props.items()]\n\u001b[0m\u001b[1;32m    903\u001b[0m         \u001b[0;32mfinally\u001b[0m\u001b[0;34m:\u001b[0m\u001b[0;34m\u001b[0m\u001b[0m\n\u001b[1;32m    904\u001b[0m             \u001b[0mself\u001b[0m\u001b[0;34m.\u001b[0m\u001b[0meventson\u001b[0m \u001b[0;34m=\u001b[0m \u001b[0mstore\u001b[0m\u001b[0;34m\u001b[0m\u001b[0m\n",
      "\u001b[0;32m~/anaconda3/lib/python3.6/site-packages/matplotlib/artist.py\u001b[0m in \u001b[0;36m<listcomp>\u001b[0;34m(.0)\u001b[0m\n\u001b[1;32m    900\u001b[0m         \u001b[0;32mtry\u001b[0m\u001b[0;34m:\u001b[0m\u001b[0;34m\u001b[0m\u001b[0m\n\u001b[1;32m    901\u001b[0m             ret = [_update_property(self, k, v)\n\u001b[0;32m--> 902\u001b[0;31m                    for k, v in props.items()]\n\u001b[0m\u001b[1;32m    903\u001b[0m         \u001b[0;32mfinally\u001b[0m\u001b[0;34m:\u001b[0m\u001b[0;34m\u001b[0m\u001b[0m\n\u001b[1;32m    904\u001b[0m             \u001b[0mself\u001b[0m\u001b[0;34m.\u001b[0m\u001b[0meventson\u001b[0m \u001b[0;34m=\u001b[0m \u001b[0mstore\u001b[0m\u001b[0;34m\u001b[0m\u001b[0m\n",
      "\u001b[0;32m~/anaconda3/lib/python3.6/site-packages/matplotlib/artist.py\u001b[0m in \u001b[0;36m_update_property\u001b[0;34m(self, k, v)\u001b[0m\n\u001b[1;32m    893\u001b[0m                 \u001b[0mfunc\u001b[0m \u001b[0;34m=\u001b[0m \u001b[0mgetattr\u001b[0m\u001b[0;34m(\u001b[0m\u001b[0mself\u001b[0m\u001b[0;34m,\u001b[0m \u001b[0;34m'set_'\u001b[0m \u001b[0;34m+\u001b[0m \u001b[0mk\u001b[0m\u001b[0;34m,\u001b[0m \u001b[0;32mNone\u001b[0m\u001b[0;34m)\u001b[0m\u001b[0;34m\u001b[0m\u001b[0m\n\u001b[1;32m    894\u001b[0m                 \u001b[0;32mif\u001b[0m \u001b[0;32mnot\u001b[0m \u001b[0mcallable\u001b[0m\u001b[0;34m(\u001b[0m\u001b[0mfunc\u001b[0m\u001b[0;34m)\u001b[0m\u001b[0;34m:\u001b[0m\u001b[0;34m\u001b[0m\u001b[0m\n\u001b[0;32m--> 895\u001b[0;31m                     \u001b[0;32mraise\u001b[0m \u001b[0mAttributeError\u001b[0m\u001b[0;34m(\u001b[0m\u001b[0;34m'Unknown property %s'\u001b[0m \u001b[0;34m%\u001b[0m \u001b[0mk\u001b[0m\u001b[0;34m)\u001b[0m\u001b[0;34m\u001b[0m\u001b[0m\n\u001b[0m\u001b[1;32m    896\u001b[0m                 \u001b[0;32mreturn\u001b[0m \u001b[0mfunc\u001b[0m\u001b[0;34m(\u001b[0m\u001b[0mv\u001b[0m\u001b[0;34m)\u001b[0m\u001b[0;34m\u001b[0m\u001b[0m\n\u001b[1;32m    897\u001b[0m \u001b[0;34m\u001b[0m\u001b[0m\n",
      "\u001b[0;31mAttributeError\u001b[0m: Unknown property bins"
     ]
    },
    {
     "data": {
      "image/png": "[encoded data removed]",
      "text/plain": [
       "<matplotlib.figure.Figure at 0x7f63185415c0>"
      ]
     },
     "metadata": {},
     "output_type": "display_data"
    }
   ],
   "source": [
    "fig, ax = plt.subplots()\n",
    "\n",
    "ax.scatter(x = trips_df['dist_miles'], y = trips_df['speed_mph'], marker = 'o', bins=10)\n",
    "ax.set_xlabel('Distance (miles)')\n",
    "ax.set_ylabel('Speed (mph)')\n",
    "ax.set_title('Ride Speed vs. Distance')\n",
    "\n",
    "plt.show()"
   ]
  },
  {
   "cell_type": "code",
   "execution_count": null,
   "metadata": {},
   "outputs": [],
   "source": []
  }
 ],
 "metadata": {
  "kernelspec": {
   "display_name": "Python 3",
   "language": "python",
   "name": "python3"
  },
  "language_info": {
   "codemirror_mode": {
    "name": "ipython",
    "version": 3
   },
   "file_extension": ".py",
   "mimetype": "text/x-python",
   "name": "python",
   "nbconvert_exporter": "python",
   "pygments_lexer": "ipython3",
   "version": "3.6.4"
  }
 },
 "nbformat": 4,
 "nbformat_minor": 2
}
